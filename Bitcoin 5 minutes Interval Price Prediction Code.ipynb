{
 "cells": [
  {
   "cell_type": "markdown",
   "metadata": {},
   "source": [
    "# Import libraries necessary for this dissertation"
   ]
  },
  {
   "cell_type": "code",
   "execution_count": 12,
   "metadata": {},
   "outputs": [],
   "source": [
    "from sklearn.discriminant_analysis import QuadraticDiscriminantAnalysis \n",
    "import numpy as np # linear algebra\n",
    "import pandas as pd # data processing, CSV file I/O (e.g. pd.read_csv)\n",
    "import matplotlib.pyplot as plt\n",
    "from matplotlib import style\n",
    "import datetime as dt1\n",
    "from datetime import datetime as dt\n",
    "import pandas as pd\n",
    "import numpy as np\n",
    "import warnings\n",
    "from matplotlib import pyplot\n",
    "#from pandas import read_csv, set_option\n",
    "from pandas import Series, datetime\n",
    "from pandas.tools.plotting import scatter_matrix, autocorrelation_plot\n",
    "from sklearn.preprocessing import StandardScaler\n",
    "from sklearn.model_selection import train_test_split, KFold, cross_val_score, GridSearchCV, TimeSeriesSplit\n",
    "from sklearn.metrics import classification_report, confusion_matrix, accuracy_score, mean_squared_error\n",
    "from sklearn.pipeline import Pipeline\n",
    "from sklearn.linear_model import LogisticRegression\n",
    "from sklearn.tree import DecisionTreeClassifier\n",
    "from sklearn.neighbors import KNeighborsClassifier\n",
    "from sklearn.discriminant_analysis import LinearDiscriminantAnalysis\n",
    "from sklearn.naive_bayes import GaussianNB\n",
    "from sklearn.svm import SVC\n",
    "from sklearn.ensemble import AdaBoostClassifier, GradientBoostingClassifier, RandomForestClassifier, ExtraTreesClassifier\n",
    "from sklearn.metrics import roc_curve, auc\n",
    "import matplotlib.pyplot as plt\n",
    "import random\n",
    "from statsmodels.graphics.tsaplots import plot_acf, plot_pacf\n",
    "from statsmodels.tsa.arima_model import ARIMA\n",
    "from xgboost import XGBClassifier\n",
    "import seaborn as sns\n",
    "from sklearn.metrics import precision_score,recall_score, confusion_matrix, classification_report,accuracy_score, f1_score"
   ]
  },
  {
   "cell_type": "markdown",
   "metadata": {},
   "source": [
    "# Loading Data"
   ]
  },
  {
   "cell_type": "code",
   "execution_count": 13,
   "metadata": {
    "scrolled": true
   },
   "outputs": [],
   "source": [
    "df=pd.read_csv(\"C:\\\\Users\\\\Sumit Ranjan\\\\Desktop\\\\pgdm\\\\semester 5\\\\Bitcoin_5-minutes_price_data.csv\")"
   ]
  },
  {
   "cell_type": "markdown",
   "metadata": {},
   "source": [
    "# Introduction to the data"
   ]
  },
  {
   "cell_type": "code",
   "execution_count": 14,
   "metadata": {},
   "outputs": [
    {
     "data": {
      "text/html": [
       "<div>\n",
       "<style scoped>\n",
       "    .dataframe tbody tr th:only-of-type {\n",
       "        vertical-align: middle;\n",
       "    }\n",
       "\n",
       "    .dataframe tbody tr th {\n",
       "        vertical-align: top;\n",
       "    }\n",
       "\n",
       "    .dataframe thead th {\n",
       "        text-align: right;\n",
       "    }\n",
       "</style>\n",
       "<table border=\"1\" class=\"dataframe\">\n",
       "  <thead>\n",
       "    <tr style=\"text-align: right;\">\n",
       "      <th></th>\n",
       "      <th>timestamp</th>\n",
       "      <th>open</th>\n",
       "      <th>high</th>\n",
       "      <th>low</th>\n",
       "      <th>close</th>\n",
       "      <th>n_transctions</th>\n",
       "      <th>prices</th>\n",
       "      <th>return</th>\n",
       "    </tr>\n",
       "  </thead>\n",
       "  <tbody>\n",
       "    <tr>\n",
       "      <th>0</th>\n",
       "      <td>02-11-2016 09:45</td>\n",
       "      <td>725.0</td>\n",
       "      <td>725.0</td>\n",
       "      <td>725.0</td>\n",
       "      <td>725.0</td>\n",
       "      <td>1</td>\n",
       "      <td>725.0</td>\n",
       "      <td>0.0</td>\n",
       "    </tr>\n",
       "    <tr>\n",
       "      <th>1</th>\n",
       "      <td>02-11-2016 09:50</td>\n",
       "      <td>NaN</td>\n",
       "      <td>NaN</td>\n",
       "      <td>NaN</td>\n",
       "      <td>NaN</td>\n",
       "      <td>0</td>\n",
       "      <td>NaN</td>\n",
       "      <td>NaN</td>\n",
       "    </tr>\n",
       "    <tr>\n",
       "      <th>2</th>\n",
       "      <td>02-11-2016 09:55</td>\n",
       "      <td>NaN</td>\n",
       "      <td>NaN</td>\n",
       "      <td>NaN</td>\n",
       "      <td>NaN</td>\n",
       "      <td>0</td>\n",
       "      <td>NaN</td>\n",
       "      <td>NaN</td>\n",
       "    </tr>\n",
       "    <tr>\n",
       "      <th>3</th>\n",
       "      <td>02-11-2016 10:00</td>\n",
       "      <td>NaN</td>\n",
       "      <td>NaN</td>\n",
       "      <td>NaN</td>\n",
       "      <td>NaN</td>\n",
       "      <td>0</td>\n",
       "      <td>NaN</td>\n",
       "      <td>NaN</td>\n",
       "    </tr>\n",
       "    <tr>\n",
       "      <th>4</th>\n",
       "      <td>02-11-2016 10:05</td>\n",
       "      <td>NaN</td>\n",
       "      <td>NaN</td>\n",
       "      <td>NaN</td>\n",
       "      <td>NaN</td>\n",
       "      <td>0</td>\n",
       "      <td>NaN</td>\n",
       "      <td>NaN</td>\n",
       "    </tr>\n",
       "  </tbody>\n",
       "</table>\n",
       "</div>"
      ],
      "text/plain": [
       "          timestamp   open   high    low  close  n_transctions  prices  return\n",
       "0  02-11-2016 09:45  725.0  725.0  725.0  725.0              1   725.0     0.0\n",
       "1  02-11-2016 09:50    NaN    NaN    NaN    NaN              0     NaN     NaN\n",
       "2  02-11-2016 09:55    NaN    NaN    NaN    NaN              0     NaN     NaN\n",
       "3  02-11-2016 10:00    NaN    NaN    NaN    NaN              0     NaN     NaN\n",
       "4  02-11-2016 10:05    NaN    NaN    NaN    NaN              0     NaN     NaN"
      ]
     },
     "execution_count": 14,
     "metadata": {},
     "output_type": "execute_result"
    }
   ],
   "source": [
    "df.head()"
   ]
  },
  {
   "cell_type": "markdown",
   "metadata": {},
   "source": [
    "# Removing NAN value from data"
   ]
  },
  {
   "cell_type": "code",
   "execution_count": 15,
   "metadata": {},
   "outputs": [],
   "source": [
    "df = df.dropna()"
   ]
  },
  {
   "cell_type": "code",
   "execution_count": 16,
   "metadata": {},
   "outputs": [
    {
     "data": {
      "text/html": [
       "<div>\n",
       "<style scoped>\n",
       "    .dataframe tbody tr th:only-of-type {\n",
       "        vertical-align: middle;\n",
       "    }\n",
       "\n",
       "    .dataframe tbody tr th {\n",
       "        vertical-align: top;\n",
       "    }\n",
       "\n",
       "    .dataframe thead th {\n",
       "        text-align: right;\n",
       "    }\n",
       "</style>\n",
       "<table border=\"1\" class=\"dataframe\">\n",
       "  <thead>\n",
       "    <tr style=\"text-align: right;\">\n",
       "      <th></th>\n",
       "      <th>timestamp</th>\n",
       "      <th>open</th>\n",
       "      <th>high</th>\n",
       "      <th>low</th>\n",
       "      <th>close</th>\n",
       "      <th>n_transctions</th>\n",
       "      <th>prices</th>\n",
       "      <th>return</th>\n",
       "    </tr>\n",
       "  </thead>\n",
       "  <tbody>\n",
       "    <tr>\n",
       "      <th>0</th>\n",
       "      <td>02-11-2016 09:45</td>\n",
       "      <td>725.0</td>\n",
       "      <td>725.0</td>\n",
       "      <td>725.0</td>\n",
       "      <td>725.0</td>\n",
       "      <td>1</td>\n",
       "      <td>725.0</td>\n",
       "      <td>0.000000</td>\n",
       "    </tr>\n",
       "    <tr>\n",
       "      <th>76</th>\n",
       "      <td>02-11-2016 16:05</td>\n",
       "      <td>728.5</td>\n",
       "      <td>728.5</td>\n",
       "      <td>726.0</td>\n",
       "      <td>726.0</td>\n",
       "      <td>2</td>\n",
       "      <td>726.0</td>\n",
       "      <td>-0.003438</td>\n",
       "    </tr>\n",
       "    <tr>\n",
       "      <th>80</th>\n",
       "      <td>02-11-2016 16:25</td>\n",
       "      <td>726.2</td>\n",
       "      <td>730.0</td>\n",
       "      <td>726.0</td>\n",
       "      <td>730.0</td>\n",
       "      <td>3</td>\n",
       "      <td>730.0</td>\n",
       "      <td>0.005219</td>\n",
       "    </tr>\n",
       "    <tr>\n",
       "      <th>83</th>\n",
       "      <td>02-11-2016 16:40</td>\n",
       "      <td>729.0</td>\n",
       "      <td>729.0</td>\n",
       "      <td>729.0</td>\n",
       "      <td>729.0</td>\n",
       "      <td>1</td>\n",
       "      <td>729.0</td>\n",
       "      <td>0.000000</td>\n",
       "    </tr>\n",
       "    <tr>\n",
       "      <th>84</th>\n",
       "      <td>02-11-2016 16:45</td>\n",
       "      <td>728.2</td>\n",
       "      <td>728.2</td>\n",
       "      <td>728.2</td>\n",
       "      <td>728.2</td>\n",
       "      <td>1</td>\n",
       "      <td>728.2</td>\n",
       "      <td>0.000000</td>\n",
       "    </tr>\n",
       "  </tbody>\n",
       "</table>\n",
       "</div>"
      ],
      "text/plain": [
       "           timestamp   open   high    low  close  n_transctions  prices  \\\n",
       "0   02-11-2016 09:45  725.0  725.0  725.0  725.0              1   725.0   \n",
       "76  02-11-2016 16:05  728.5  728.5  726.0  726.0              2   726.0   \n",
       "80  02-11-2016 16:25  726.2  730.0  726.0  730.0              3   730.0   \n",
       "83  02-11-2016 16:40  729.0  729.0  729.0  729.0              1   729.0   \n",
       "84  02-11-2016 16:45  728.2  728.2  728.2  728.2              1   728.2   \n",
       "\n",
       "      return  \n",
       "0   0.000000  \n",
       "76 -0.003438  \n",
       "80  0.005219  \n",
       "83  0.000000  \n",
       "84  0.000000  "
      ]
     },
     "execution_count": 16,
     "metadata": {},
     "output_type": "execute_result"
    }
   ],
   "source": [
    "df.head()"
   ]
  },
  {
   "cell_type": "markdown",
   "metadata": {},
   "source": [
    "# Dependent Variable"
   ]
  },
  {
   "cell_type": "code",
   "execution_count": 17,
   "metadata": {},
   "outputs": [],
   "source": [
    "y = np.where(df['close'].shift(-1) > df['close'],1,-1)"
   ]
  },
  {
   "cell_type": "markdown",
   "metadata": {},
   "source": [
    "# Features included in the models"
   ]
  },
  {
   "cell_type": "code",
   "execution_count": 18,
   "metadata": {},
   "outputs": [],
   "source": [
    "X=df.drop(['timestamp'], axis=1)\n"
   ]
  },
  {
   "cell_type": "markdown",
   "metadata": {},
   "source": [
    "# Splitting the data as train and test"
   ]
  },
  {
   "cell_type": "code",
   "execution_count": 19,
   "metadata": {},
   "outputs": [],
   "source": [
    "split = int(0.75*len(df))\n",
    "X_train, X_test, y_train, y_test = X[:split], X[split:], y[:split], y[split:]"
   ]
  },
  {
   "cell_type": "markdown",
   "metadata": {},
   "source": [
    "# Models "
   ]
  },
  {
   "cell_type": "code",
   "execution_count": 20,
   "metadata": {},
   "outputs": [],
   "source": [
    "scoring = 'accuracy'\n",
    "# Append the models to the models list\n",
    "models = []\n",
    "models.append(('LR' , LogisticRegression()))\n",
    "models.append(('LDA' , LinearDiscriminantAnalysis()))\n",
    "models.append(('KNN' , KNeighborsClassifier()))\n",
    "models.append(('CART' , DecisionTreeClassifier()))\n",
    "models.append(('NB' , GaussianNB()))\n",
    "models.append(('SVM' , SVC()))\n",
    "models.append(('RF' , RandomForestClassifier(n_estimators=50)))\n",
    "models.append(('XGBoost', XGBClassifier()))\n",
    "models.append(('QDA' , QuadraticDiscriminantAnalysis()))"
   ]
  },
  {
   "cell_type": "markdown",
   "metadata": {},
   "source": [
    "# Results"
   ]
  },
  {
   "cell_type": "code",
   "execution_count": null,
   "metadata": {},
   "outputs": [
    {
     "name": "stderr",
     "output_type": "stream",
     "text": [
      "C:\\Users\\Sumit Ranjan\\Anaconda3\\lib\\site-packages\\sklearn\\linear_model\\logistic.py:433: FutureWarning: Default solver will be changed to 'lbfgs' in 0.22. Specify a solver to silence this warning.\n",
      "  FutureWarning)\n"
     ]
    },
    {
     "name": "stdout",
     "output_type": "stream",
     "text": [
      "Model :LR\n",
      "Accuracy Score : 0.5939269171384457\n",
      "Confusion Matrix :\n",
      "Predicted    -1    1\n",
      "Actual              \n",
      "-1         4428   87\n",
      " 1         3069  188\n",
      "              precision    recall  f1-score   support\n",
      "\n",
      "          -1       0.59      0.98      0.74      4515\n",
      "           1       0.68      0.06      0.11      3257\n",
      "\n",
      "   micro avg       0.59      0.59      0.59      7772\n",
      "   macro avg       0.64      0.52      0.42      7772\n",
      "weighted avg       0.63      0.59      0.47      7772\n",
      "\n"
     ]
    },
    {
     "name": "stderr",
     "output_type": "stream",
     "text": [
      "C:\\Users\\Sumit Ranjan\\Anaconda3\\lib\\site-packages\\sklearn\\discriminant_analysis.py:388: UserWarning: Variables are collinear.\n",
      "  warnings.warn(\"Variables are collinear.\")\n"
     ]
    },
    {
     "name": "stdout",
     "output_type": "stream",
     "text": [
      "Model :LDA\n",
      "Accuracy Score : 0.593798250128667\n",
      "Confusion Matrix :\n",
      "Predicted    -1    1\n",
      "Actual              \n",
      "-1         4450   65\n",
      " 1         3092  165\n",
      "              precision    recall  f1-score   support\n",
      "\n",
      "          -1       0.59      0.99      0.74      4515\n",
      "           1       0.72      0.05      0.09      3257\n",
      "\n",
      "   micro avg       0.59      0.59      0.59      7772\n",
      "   macro avg       0.65      0.52      0.42      7772\n",
      "weighted avg       0.64      0.59      0.47      7772\n",
      "\n",
      "Model :KNN\n",
      "Accuracy Score : 0.5400154400411734\n",
      "Confusion Matrix :\n",
      "Predicted    -1     1\n",
      "Actual               \n",
      "-1         3027  1488\n",
      " 1         2087  1170\n",
      "              precision    recall  f1-score   support\n",
      "\n",
      "          -1       0.59      0.67      0.63      4515\n",
      "           1       0.44      0.36      0.40      3257\n",
      "\n",
      "   micro avg       0.54      0.54      0.54      7772\n",
      "   macro avg       0.52      0.51      0.51      7772\n",
      "weighted avg       0.53      0.54      0.53      7772\n",
      "\n",
      "Model :CART\n",
      "Accuracy Score : 0.5298507462686567\n",
      "Confusion Matrix :\n",
      "Predicted    -1     1\n",
      "Actual               \n",
      "-1         2775  1740\n",
      " 1         1914  1343\n",
      "              precision    recall  f1-score   support\n",
      "\n",
      "          -1       0.59      0.61      0.60      4515\n",
      "           1       0.44      0.41      0.42      3257\n",
      "\n",
      "   micro avg       0.53      0.53      0.53      7772\n",
      "   macro avg       0.51      0.51      0.51      7772\n",
      "weighted avg       0.53      0.53      0.53      7772\n",
      "\n",
      "Model :NB\n",
      "Accuracy Score : 0.5809315491507977\n",
      "Confusion Matrix :\n",
      "Predicted    -1   1\n",
      "Actual             \n",
      "-1         4514   1\n",
      " 1         3256   1\n",
      "              precision    recall  f1-score   support\n",
      "\n",
      "          -1       0.58      1.00      0.73      4515\n",
      "           1       0.50      0.00      0.00      3257\n",
      "\n",
      "   micro avg       0.58      0.58      0.58      7772\n",
      "   macro avg       0.54      0.50      0.37      7772\n",
      "weighted avg       0.55      0.58      0.43      7772\n",
      "\n"
     ]
    },
    {
     "name": "stderr",
     "output_type": "stream",
     "text": [
      "C:\\Users\\Sumit Ranjan\\Anaconda3\\lib\\site-packages\\sklearn\\svm\\base.py:196: FutureWarning: The default value of gamma will change from 'auto' to 'scale' in version 0.22 to account better for unscaled features. Set gamma explicitly to 'auto' or 'scale' to avoid this warning.\n",
      "  \"avoid this warning.\", FutureWarning)\n"
     ]
    },
    {
     "name": "stdout",
     "output_type": "stream",
     "text": [
      "Model :SVM\n",
      "Accuracy Score : 0.5654915079773546\n",
      "Confusion Matrix :\n",
      "Predicted    -1    1\n",
      "Actual              \n",
      "-1         4155  360\n",
      " 1         3017  240\n",
      "              precision    recall  f1-score   support\n",
      "\n",
      "          -1       0.58      0.92      0.71      4515\n",
      "           1       0.40      0.07      0.12      3257\n",
      "\n",
      "   micro avg       0.57      0.57      0.57      7772\n",
      "   macro avg       0.49      0.50      0.42      7772\n",
      "weighted avg       0.50      0.57      0.47      7772\n",
      "\n"
     ]
    }
   ],
   "source": [
    "import matplotlib.pyplot as plt\n",
    "import seaborn as sn\n",
    "from sklearn.metrics import confusion_matrix\n",
    "from sklearn.metrics import classification_report \n",
    "results = []\n",
    "names = []\n",
    "\n",
    "for name, model in models:\n",
    "    clf = model\n",
    "    clf.fit(X_train, y_train)\n",
    "    y_pred = clf.predict(X_test)\n",
    "    accu_score = accuracy_score(y_test, y_pred)\n",
    "    F1_score=f1_score(y_test, y_pred)\n",
    "    Recall=recall_score(y_test, y_pred)\n",
    "    Precision=precision_score(y_test, y_pred)\n",
    "    results= pd.crosstab(y_test, y_pred, rownames=['Actual'], colnames=['Predicted'], margins=False)\n",
    "    print( \"Model :\" + name)\n",
    "    print ('Accuracy Score :',accuracy_score(y_test,y_pred))\n",
    "    print ('Confusion Matrix :')\n",
    "    print (results)\n",
    "    plt.show()\n",
    "    print(classification_report(y_test,y_pred))\n",
    "    \n",
    "    \n",
    "   "
   ]
  },
  {
   "cell_type": "code",
   "execution_count": null,
   "metadata": {},
   "outputs": [],
   "source": []
  },
  {
   "cell_type": "code",
   "execution_count": null,
   "metadata": {},
   "outputs": [],
   "source": []
  }
 ],
 "metadata": {
  "kernelspec": {
   "display_name": "Python 3",
   "language": "python",
   "name": "python3"
  },
  "language_info": {
   "codemirror_mode": {
    "name": "ipython",
    "version": 3
   },
   "file_extension": ".py",
   "mimetype": "text/x-python",
   "name": "python",
   "nbconvert_exporter": "python",
   "pygments_lexer": "ipython3",
   "version": "3.7.1"
  }
 },
 "nbformat": 4,
 "nbformat_minor": 2
}
